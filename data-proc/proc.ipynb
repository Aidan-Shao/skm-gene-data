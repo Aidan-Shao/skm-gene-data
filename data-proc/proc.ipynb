{
 "cells": [
  {
   "cell_type": "code",
   "execution_count": 3,
   "metadata": {},
   "outputs": [],
   "source": [
    "import pandas as pd"
   ]
  },
  {
   "cell_type": "code",
   "execution_count": 7,
   "metadata": {},
   "outputs": [],
   "source": [
    "# List of input CSV files\n",
    "input_files = {\n",
    "    \"krt4\": \"krt4_normalized.csv\", \n",
    "    \"tp63\": \"Tp63_normalized.csv\"\n",
    "}\n",
    "\n",
    "# List of columns to select from each CSV\n",
    "selected_columns = [\"gene_name\", \"log10FPKM\"]\n",
    "\n",
    "# Initialize an empty list to store dataframes\n",
    "dataframes = []\n",
    "\n",
    "# Read and select columns from each CSV\n",
    "for k, v in input_files.items():\n",
    "    df = pd.read_csv(v, dtype=object)\n",
    "    selected_df = df[selected_columns]\n",
    "    selected_df = selected_df.rename(columns={\"log10FPKM\": k})\n",
    "    selected_df[k] = selected_df[k].astype(str)\n",
    "    dataframes.append(selected_df)"
   ]
  },
  {
   "cell_type": "code",
   "execution_count": 8,
   "metadata": {},
   "outputs": [
    {
     "data": {
      "text/plain": [
       "[        gene_name    krt4\n",
       " 0            a1cf  -0.353\n",
       " 1            a2ml  -0.796\n",
       " 2            aaas   1.301\n",
       " 3            aacs   0.187\n",
       " 4           aadac  -0.737\n",
       " ...           ...     ...\n",
       " 36346  mir430a-16  -4.000\n",
       " 36347  mir430c-17  -4.000\n",
       " 36348  mir430c-18  -4.000\n",
       " 36349  mir430a-11  -4.000\n",
       " 36350  mir430a-17  -4.000\n",
       " \n",
       " [36351 rows x 2 columns],\n",
       "         gene_name    tp63\n",
       " 0            a1cf  -1.046\n",
       " 1            a2ml  -2.176\n",
       " 2            aaas   1.086\n",
       " 3            aacs   0.183\n",
       " 4           aadac  -1.778\n",
       " ...           ...     ...\n",
       " 36346  mir430a-16  -4.000\n",
       " 36347  mir430c-17  -4.000\n",
       " 36348  mir430c-18  -4.000\n",
       " 36349  mir430a-11  -4.000\n",
       " 36350  mir430a-17  -4.000\n",
       " \n",
       " [36351 rows x 2 columns]]"
      ]
     },
     "execution_count": 8,
     "metadata": {},
     "output_type": "execute_result"
    }
   ],
   "source": [
    "# print dataframes\n",
    "dataframes"
   ]
  },
  {
   "cell_type": "code",
   "execution_count": 9,
   "metadata": {},
   "outputs": [],
   "source": [
    "\n",
    "# join on \"geneid\"\n",
    "merged_df = dataframes[0]\n",
    "for df in dataframes[1:]:\n",
    "    # join on \"Gene_Names\"and \"Gene_ID\"\n",
    "    merged_df = pd.merge(merged_df, df, on=[\"gene_name\"], how=\"inner\")\n",
    "    \n",
    "# write dataframe to json\n",
    "merged_str = merged_df.to_json(orient=\"records\")\n",
    "merged_str = \"{ \\\"data\\\": \" + merged_str + \"}\"\n",
    "with open(\"data.json\", \"w\") as f:   \n",
    "    f.write(merged_str)\n"
   ]
  },
  {
   "cell_type": "code",
   "execution_count": null,
   "metadata": {},
   "outputs": [],
   "source": []
  },
  {
   "cell_type": "code",
   "execution_count": null,
   "metadata": {},
   "outputs": [],
   "source": []
  }
 ],
 "metadata": {
  "kernelspec": {
   "display_name": "base",
   "language": "python",
   "name": "python3"
  },
  "language_info": {
   "codemirror_mode": {
    "name": "ipython",
    "version": 3
   },
   "file_extension": ".py",
   "mimetype": "text/x-python",
   "name": "python",
   "nbconvert_exporter": "python",
   "pygments_lexer": "ipython3",
   "version": "3.8.5"
  },
  "orig_nbformat": 4
 },
 "nbformat": 4,
 "nbformat_minor": 2
}
