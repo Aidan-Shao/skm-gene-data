{
 "cells": [
  {
   "cell_type": "code",
   "execution_count": 14,
   "metadata": {},
   "outputs": [],
   "source": [
    "import pandas as pd"
   ]
  },
  {
   "cell_type": "code",
   "execution_count": 18,
   "metadata": {},
   "outputs": [],
   "source": [
    "# List of input CSV files\n",
    "input_files = {\n",
    "    \"krt4\": \"Krt4-1_S1_L001_annotated.csv\", \n",
    "    \"tp63\": \"Tp63-3_S6_L001_annotated.csv\"\n",
    "}\n",
    "\n",
    "# List of columns to select from each CSV\n",
    "selected_columns = [\"Geneid\", \"counts number\"]\n",
    "\n",
    "# Initialize an empty list to store dataframes\n",
    "dataframes = []\n",
    "\n",
    "# Read and select columns from each CSV\n",
    "for k, v in input_files.items():\n",
    "    df = pd.read_csv(v)\n",
    "    selected_df = df[selected_columns]\n",
    "    selected_df = selected_df.rename(columns={\"counts number\": k})\n",
    "    selected_df[k] = selected_df[k].astype(str)\n",
    "    dataframes.append(selected_df)"
   ]
  },
  {
   "cell_type": "code",
   "execution_count": 19,
   "metadata": {},
   "outputs": [
    {
     "data": {
      "text/plain": [
       "[               Geneid     krt4\n",
       " 0        LOC100000086      0.0\n",
       " 1        LOC100000155      2.0\n",
       " 2      LOC100000155_1    176.0\n",
       " 3        LOC100000228      0.0\n",
       " 4        LOC100000275      0.0\n",
       " ...               ...      ...\n",
       " 47059       zymnd12_1     18.0\n",
       " 47060             zyx  20924.0\n",
       " 47061           zzef1   1616.0\n",
       " 47062         zzef1_1      0.0\n",
       " 47063            zzz3   1818.0\n",
       " \n",
       " [47064 rows x 2 columns],\n",
       "                Geneid     tp63\n",
       " 0        LOC100000086      0.0\n",
       " 1        LOC100000155      4.0\n",
       " 2      LOC100000155_1    152.0\n",
       " 3        LOC100000228      0.0\n",
       " 4        LOC100000275     27.0\n",
       " ...               ...      ...\n",
       " 47051       zymnd12_1     34.0\n",
       " 47052             zyx  21806.0\n",
       " 47053           zzef1   1394.0\n",
       " 47054         zzef1_1      0.0\n",
       " 47055            zzz3   1617.0\n",
       " \n",
       " [47056 rows x 2 columns]]"
      ]
     },
     "execution_count": 19,
     "metadata": {},
     "output_type": "execute_result"
    }
   ],
   "source": [
    "dataframes"
   ]
  },
  {
   "cell_type": "code",
   "execution_count": 20,
   "metadata": {},
   "outputs": [],
   "source": [
    "\n",
    "# join on \"geneid\"\n",
    "merged_df = dataframes[0]\n",
    "for df in dataframes[1:]:\n",
    "    merged_df = pd.merge(merged_df, df, on=\"Geneid\", how=\"inner\")\n",
    "# write dataframe to json\n",
    "merged_str = merged_df.to_json(orient=\"records\")\n",
    "merged_str = \"{ \\\"data\\\": \" + merged_str + \"}\"\n",
    "with open(\"data.json\", \"w\") as f:   \n",
    "    f.write(merged_str)\n"
   ]
  },
  {
   "cell_type": "code",
   "execution_count": null,
   "metadata": {},
   "outputs": [],
   "source": []
  },
  {
   "cell_type": "code",
   "execution_count": null,
   "metadata": {},
   "outputs": [],
   "source": []
  }
 ],
 "metadata": {
  "kernelspec": {
   "display_name": "base",
   "language": "python",
   "name": "python3"
  },
  "language_info": {
   "codemirror_mode": {
    "name": "ipython",
    "version": 3
   },
   "file_extension": ".py",
   "mimetype": "text/x-python",
   "name": "python",
   "nbconvert_exporter": "python",
   "pygments_lexer": "ipython3",
   "version": "3.8.5"
  },
  "orig_nbformat": 4
 },
 "nbformat": 4,
 "nbformat_minor": 2
}
