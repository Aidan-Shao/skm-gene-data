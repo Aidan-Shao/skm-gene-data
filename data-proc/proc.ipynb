{
 "cells": [
  {
   "cell_type": "code",
   "execution_count": 1,
   "metadata": {},
   "outputs": [],
   "source": [
    "import pandas as pd"
   ]
  },
  {
   "cell_type": "code",
   "execution_count": 8,
   "metadata": {},
   "outputs": [],
   "source": [
    "# List of input CSV files\n",
    "input_files = {\n",
    "    \"krt4\": \"krt4_final_counts.csv\", \n",
    "    \"tp63\": \"tp63_final_counts.csv\"\n",
    "}\n",
    "\n",
    "# List of columns to select from each CSV\n",
    "selected_columns = [\"Gene_Names\",\"Gene_ID\",\"Avg_Count\"]\n",
    "\n",
    "# Initialize an empty list to store dataframes\n",
    "dataframes = []\n",
    "\n",
    "# Read and select columns from each CSV\n",
    "for k, v in input_files.items():\n",
    "    df = pd.read_csv(v)\n",
    "    selected_df = df[selected_columns]\n",
    "    selected_df = selected_df.rename(columns={\"Avg_Count\": k})\n",
    "    selected_df[k] = selected_df[k].astype(str)\n",
    "    dataframes.append(selected_df)"
   ]
  },
  {
   "cell_type": "code",
   "execution_count": 9,
   "metadata": {},
   "outputs": [
    {
     "data": {
      "text/plain": [
       "[       Gene_Names       Gene_ID  krt4\n",
       " 0            a1cf  LL0000000001    32\n",
       " 1            a2ml  LL0000000002    30\n",
       " 2            aaas  LL0000000003  1048\n",
       " 3            aacs  LL0000000004   270\n",
       " 4           aadac  LL0000000005    17\n",
       " ...           ...           ...   ...\n",
       " 36346  mir430a-16  LL0000040570     0\n",
       " 36347  mir430c-17  LL0000040571     0\n",
       " 36348  mir430c-18  LL0000040572     0\n",
       " 36349  mir430a-11  LL0000040573     0\n",
       " 36350  mir430a-17  LL0000040574     0\n",
       " \n",
       " [36351 rows x 3 columns],\n",
       "        Gene_Names       Gene_ID tp63\n",
       " 0            a1cf  LL0000000001    8\n",
       " 1            a2ml  LL0000000002    1\n",
       " 2            aaas  LL0000000003  679\n",
       " 3            aacs  LL0000000004  224\n",
       " 4           aadac  LL0000000005    4\n",
       " ...           ...           ...  ...\n",
       " 36346  mir430a-16  LL0000040570    0\n",
       " 36347  mir430c-17  LL0000040571    0\n",
       " 36348  mir430c-18  LL0000040572    0\n",
       " 36349  mir430a-11  LL0000040573    0\n",
       " 36350  mir430a-17  LL0000040574    0\n",
       " \n",
       " [36351 rows x 3 columns]]"
      ]
     },
     "execution_count": 9,
     "metadata": {},
     "output_type": "execute_result"
    }
   ],
   "source": [
    "dataframes"
   ]
  },
  {
   "cell_type": "code",
   "execution_count": 10,
   "metadata": {},
   "outputs": [],
   "source": [
    "\n",
    "# join on \"geneid\"\n",
    "merged_df = dataframes[0]\n",
    "for df in dataframes[1:]:\n",
    "    # join on \"Gene_Names\"and \"Gene_ID\"\n",
    "    merged_df = pd.merge(merged_df, df, on=[\"Gene_Names\", \"Gene_ID\"], how=\"inner\")\n",
    "# write dataframe to json\n",
    "merged_str = merged_df.to_json(orient=\"records\")\n",
    "merged_str = \"{ \\\"data\\\": \" + merged_str + \"}\"\n",
    "with open(\"data.json\", \"w\") as f:   \n",
    "    f.write(merged_str)\n"
   ]
  },
  {
   "cell_type": "code",
   "execution_count": null,
   "metadata": {},
   "outputs": [],
   "source": []
  },
  {
   "cell_type": "code",
   "execution_count": null,
   "metadata": {},
   "outputs": [],
   "source": []
  }
 ],
 "metadata": {
  "kernelspec": {
   "display_name": "base",
   "language": "python",
   "name": "python3"
  },
  "language_info": {
   "codemirror_mode": {
    "name": "ipython",
    "version": 3
   },
   "file_extension": ".py",
   "mimetype": "text/x-python",
   "name": "python",
   "nbconvert_exporter": "python",
   "pygments_lexer": "ipython3",
   "version": "3.8.5"
  },
  "orig_nbformat": 4
 },
 "nbformat": 4,
 "nbformat_minor": 2
}
